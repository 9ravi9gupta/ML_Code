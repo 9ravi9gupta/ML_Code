{
 "cells": [
  {
   "cell_type": "markdown",
   "metadata": {},
   "source": [
    "# Gradient Descent Algorithm"
   ]
  },
  {
   "cell_type": "markdown",
   "metadata": {},
   "source": [
    "Optimization in machine learning has a slight difference. Generally, while optimizing, we know exactly how our data looks like and what areas we want to improve. But in machine learning we have no clue how our “new data” looks like, let alone try to optimize on it.\n",
    "\n",
    "So in machine learning, we perform optimization on the training data and check its performance on a new validation data.\n",
    "\n",
    "Gradient Descent is the most common optimization algorithm in machine learning and deep learning. It is a first-order optimization algorithm. This means it only takes into account the first derivative when performing the updates on the parameters. On each iteration, we update the parameters in the opposite direction of the gradient of the objective function J(w) w.r.t the parameters where the gradient gives the direction of the steepest ascent. The size of the step we take on each iteration to reach the local minimum is determined by the learning rate α. Therefore, we follow the direction of the slope downhill until we reach a local minimum"
   ]
  },
  {
   "cell_type": "code",
   "execution_count": 8,
   "metadata": {},
   "outputs": [],
   "source": [
    "import math\n",
    "import matplotlib.pyplot as plt"
   ]
  },
  {
   "cell_type": "markdown",
   "metadata": {},
   "source": [
    "Given function will be used for practise \n",
    "\n",
    "F(x)=(36/7)x^2 + 4x + 3\n",
    "\n",
    "F'(x)=(72/7)x + 4"
   ]
  },
  {
   "cell_type": "code",
   "execution_count": 9,
   "metadata": {},
   "outputs": [],
   "source": [
    "x_old=-8\n",
    "epsilon=0.001\n",
    "alpha=0.001   #learning rate for scaling down\n",
    "x_new=0\n",
    "y_axis=[]\n",
    "x_axis=[]\n",
    "i=0\n",
    "\n",
    "while True:\n",
    "    x_new = x_old - alpha*((72/7)*x_old + 4)\n",
    "    \n",
    "    #print(x_new)\n",
    "    F1=(36/7)*x_old**2 + 4*x_old + 3\n",
    "    F2=(36/7)*x_new**2 + 4*x_new + 3\n",
    "    #print(F1,F2)\n",
    "    \n",
    "    y_axis.append(F2)\n",
    "    i=i+1\n",
    "    x_axis.append(i)\n",
    "    \n",
    "    if (abs(F2 - F1))<epsilon:\n",
    "        break\n",
    "        \n",
    "    \n",
    "    \n",
    "    x_old = x_new\n",
    "    \n",
    "    \n",
    "    #print(F1,F2)\n",
    "   "
   ]
  },
  {
   "cell_type": "code",
   "execution_count": 10,
   "metadata": {},
   "outputs": [
    {
     "data": {
      "text/plain": [
       "<matplotlib.collections.PathCollection at 0x1dc40d8e9b0>"
      ]
     },
     "execution_count": 10,
     "metadata": {},
     "output_type": "execute_result"
    },
    {
     "data": {
      "image/png": "[encoded data removed]",
      "text/plain": [
       "<Figure size 432x288 with 1 Axes>"
      ]
     },
     "metadata": {},
     "output_type": "display_data"
    }
   ],
   "source": [
    "plt.scatter(y_axis,x_axis)"
   ]
  },
  {
   "cell_type": "code",
   "execution_count": null,
   "metadata": {},
   "outputs": [],
   "source": []
  },
  {
   "cell_type": "markdown",
   "metadata": {},
   "source": [
    "Another Example for practise\n",
    "\n",
    "Given function:-\n",
    "\n",
    "f(x)=4x + x^2 + 3x^3 + 2y + 2y^2 + 3y^3 + 4z + 5z^2 + 6z^3 + i + 8i^2 + 9i^3 + 19j + 25j^2 + 37j^3 + 108k + 110k^2 + 93k^3"
   ]
  },
  {
   "cell_type": "code",
   "execution_count": 11,
   "metadata": {},
   "outputs": [],
   "source": [
    "import numpy as np"
   ]
  },
  {
   "cell_type": "code",
   "execution_count": 12,
   "metadata": {
    "scrolled": true
   },
   "outputs": [
    {
     "name": "stderr",
     "output_type": "stream",
     "text": [
      "C:\\Users\\RAVI GUPTA\\Anaconda3\\lib\\site-packages\\ipykernel_launcher.py:34: RuntimeWarning: overflow encountered in double_scalars\n",
      "C:\\Users\\RAVI GUPTA\\Anaconda3\\lib\\site-packages\\ipykernel_launcher.py:34: RuntimeWarning: invalid value encountered in double_scalars\n"
     ]
    }
   ],
   "source": [
    "l=np.random.randn(1,6)  #old_value of all variables\n",
    "alpha=0.00001   #learning rate for scaling down\n",
    "i=0\n",
    "#var=[]\n",
    "F_list=[]           # value of y_axis\n",
    "iteration_list=[]    #value of x_axis\n",
    "\n",
    "while True:\n",
    "    \n",
    "    coeff=np.array([[4,4,9],[2,4,9],[4,10,18],[7,16,27],[19,56,96],[108,220,279]])   #coeffient matrix of gradient\n",
    "    \n",
    "    \n",
    "    \n",
    "    #var=np.array([[1,l[0][0],l[0][0]**2],[1,l[0][1],l[0][1]**2],[1,l[0][2],l[0][2]**2],[1,l[0][3],l[0][3]**2],[1,l[0][4],l[0][4]**2],[1,l[0][5],l[0][5]**2]])\n",
    "    \n",
    "    #__________________variables of gradient i.e old value ___________ \n",
    "    var=[]\n",
    "    m=list(map(lambda n:var.append([1,n,n**2]),l[0]))      #__Concept:- You must have to assign the map object to any variable by converting it in list form \n",
    "    var = np.array(var)\n",
    "    \n",
    "   \n",
    "    result=coeff*var\n",
    "    result=np.sum(result,axis=1)    #__result matrix that contain gradient value\n",
    "    result = result.reshape(6,1)    # __reshape the matrix from (6,)  to (6,1)\n",
    "    \n",
    "    New_value= l - alpha*result.T       #__ subtracting gradient from old value to go to the minima\n",
    "    \n",
    "   # print(New_value.shape)\n",
    "    \n",
    "    # finding f(x,y,z,i,j,k) for old value\n",
    "    F1=4*l[0][0] + l[0][0]**2 + 3*l[0][0]**3 + 2*l[0][1] + 2*l[0][1]**2 + 3*l[0][1]**3 + 4*l[0][2] + 5*l[0][2]**2 + 6*l[0][2]**3 + l[0][3] + 8*l[0][3]**2 + 9*l[0][3]**3 + 19*l[0][4] + 25*l[0][4]**2 + 37*l[0][4]**3 + 108*l[0][5] + 110*l[0][5]**2 + 93*l[0][5]**3\n",
    "    \n",
    "    #finding f(x,y,z,i,j,k)  for new value\n",
    "    F2=4*New_value[0][0] + New_value[0][0]**2 + 3*New_value[0][0]**3 + 2*New_value[0][1] + 2*New_value[0][1]**2 + 3*New_value[0][1]**3 + 4*New_value[0][2] + 5*New_value[0][2]**2 + 6*New_value[0][2]**3 + New_value[0][3] + 8*New_value[0][3]**2 + 9*New_value[0][3]**3 + 19*New_value[0][4] + 25*New_value[0][4]**2 + 37*New_value[0][4]**3 + 108*New_value[0][5] + 110*New_value[0][5]**2 + 93*New_value[0][5]**3\n",
    "    \n",
    "    #print(F1,F2)\n",
    "    \n",
    "    if (abs(F1-F2))<0.01 or np.isnan(F2) == True: \n",
    "        break\n",
    "    \n",
    "    if i<=500:\n",
    "        F_list.append(F1)\n",
    "        #print(F1)\n",
    "        i+=1\n",
    "        iteration_list.append(i)\n",
    "    \n",
    "    l = New_value   #assinging new value to old value"
   ]
  },
  {
   "cell_type": "code",
   "execution_count": 13,
   "metadata": {},
   "outputs": [
    {
     "data": {
      "text/plain": [
       "[<matplotlib.lines.Line2D at 0x1dc40de9e80>]"
      ]
     },
     "execution_count": 13,
     "metadata": {},
     "output_type": "execute_result"
    },
    {
     "data": {
      "image/png": "[encoded data removed]",
      "text/plain": [
       "<Figure size 432x288 with 1 Axes>"
      ]
     },
     "metadata": {},
     "output_type": "display_data"
    }
   ],
   "source": [
    "plt.plot(iteration_list,F_list)"
   ]
  },
  {
   "cell_type": "code",
   "execution_count": null,
   "metadata": {},
   "outputs": [],
   "source": []
  }
 ],
 "metadata": {
  "kernelspec": {
   "display_name": "Python 3",
   "language": "python",
   "name": "python3"
  },
  "language_info": {
   "codemirror_mode": {
    "name": "ipython",
    "version": 3
   },
   "file_extension": ".py",
   "mimetype": "text/x-python",
   "name": "python",
   "nbconvert_exporter": "python",
   "pygments_lexer": "ipython3",
   "version": "3.6.5"
  }
 },
 "nbformat": 4,
 "nbformat_minor": 2
}
